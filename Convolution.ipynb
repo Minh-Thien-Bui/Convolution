{
 "cells": [
  {
   "cell_type": "code",
   "execution_count": 148,
   "id": "f38f59a4",
   "metadata": {},
   "outputs": [],
   "source": [
    "import numpy as np"
   ]
  },
  {
   "cell_type": "markdown",
   "id": "4f485f7d",
   "metadata": {},
   "source": [
    "Green Box <br>\n",
    "1 1 1 0 0 <br>\n",
    "0 1 1 1 0 <br>\n",
    "0 0 1 1 1 <br>\n",
    "0 0 1 1 0 <br>\n",
    "0 1 1 0 0 <br>"
   ]
  },
  {
   "cell_type": "markdown",
   "id": "4beb23f2",
   "metadata": {},
   "source": [
    "Weight Edges\n",
    "<br>\n",
    "1 0 1 <br>\n",
    "0 1 0 <br>\n",
    "1 0 1 <br>"
   ]
  },
  {
   "cell_type": "markdown",
   "id": "62947f46",
   "metadata": {},
   "source": [
    "Pink Box\n",
    "<br>\n",
    "4 3 4 <br>\n",
    "2 4 3 <br>\n",
    "2 3 4 <br>"
   ]
  },
  {
   "cell_type": "code",
   "execution_count": 149,
   "id": "ec0fa985",
   "metadata": {},
   "outputs": [
    {
     "data": {
      "text/plain": [
       "[[1, 1, 1, 0, 0],\n",
       " [0, 1, 1, 1, 0],\n",
       " [0, 0, 1, 1, 1],\n",
       " [0, 0, 1, 1, 0],\n",
       " [0, 1, 1, 0, 0]]"
      ]
     },
     "execution_count": 149,
     "metadata": {},
     "output_type": "execute_result"
    }
   ],
   "source": [
    "greenBox = [\n",
    "    [1, 1, 1, 0, 0],\n",
    "    [0, 1, 1, 1, 0],\n",
    "    [0, 0, 1, 1, 1],\n",
    "    [0, 0, 1, 1, 0],\n",
    "    [0, 1, 1, 0, 0]\n",
    "]\n",
    "\n",
    "greenBox"
   ]
  },
  {
   "cell_type": "code",
   "execution_count": 150,
   "id": "affd8146",
   "metadata": {},
   "outputs": [
    {
     "data": {
      "text/plain": [
       "[[1, 0, 1], [0, 1, 0], [1, 0, 1]]"
      ]
     },
     "execution_count": 150,
     "metadata": {},
     "output_type": "execute_result"
    }
   ],
   "source": [
    "weightEdges = [\n",
    "    [1, 0, 1],\n",
    "    [0, 1, 0],\n",
    "    [1, 0, 1]\n",
    "]\n",
    "\n",
    "weightEdges"
   ]
  },
  {
   "cell_type": "code",
   "execution_count": 151,
   "id": "fbc0faf9",
   "metadata": {},
   "outputs": [],
   "source": [
    "def convolution(greenBox, weightEdges, rowIndex, columnIndex, length):\n",
    "    yellowBox = []\n",
    "    convolvedSum = 0\n",
    "\n",
    "    for row in range(length):\n",
    "        yellowBox.append(greenBox[row + rowIndex][columnIndex : columnIndex + length])\n",
    "        \n",
    "    for row in yellowBox:\n",
    "        print(row)\n",
    "        \n",
    "    for row in range(len(yellowBox)):\n",
    "        for column in range(len(yellowBox[row])):\n",
    "            convolvedSum += yellowBox[row][column] * weightEdges[row][column]\n",
    "                \n",
    "    return convolvedSum"
   ]
  },
  {
   "cell_type": "code",
   "execution_count": 152,
   "id": "3b467f66",
   "metadata": {},
   "outputs": [
    {
     "name": "stdout",
     "output_type": "stream",
     "text": [
      "Yellow Box 1\n",
      "[1, 1, 1]\n",
      "[0, 1, 1]\n",
      "[0, 0, 1]\n",
      "\n",
      "[1, 1, 0]\n",
      "[1, 1, 1]\n",
      "[0, 1, 1]\n",
      "\n",
      "[1, 0, 0]\n",
      "[1, 1, 0]\n",
      "[1, 1, 1]\n",
      "\n",
      "Yellow Box 2\n",
      "[0, 1, 1]\n",
      "[0, 0, 1]\n",
      "[0, 0, 1]\n",
      "\n",
      "[1, 1, 1]\n",
      "[0, 1, 1]\n",
      "[0, 1, 1]\n",
      "\n",
      "[1, 1, 0]\n",
      "[1, 1, 1]\n",
      "[1, 1, 0]\n",
      "\n",
      "Yellow Box 3\n",
      "[0, 0, 1]\n",
      "[0, 0, 1]\n",
      "[0, 1, 1]\n",
      "\n",
      "[0, 1, 1]\n",
      "[0, 1, 1]\n",
      "[1, 1, 0]\n",
      "\n",
      "[1, 1, 1]\n",
      "[1, 1, 0]\n",
      "[1, 0, 0]\n",
      "\n",
      "Pink Box:\n",
      "[4, 3, 4]\n",
      "[2, 4, 3]\n",
      "[2, 3, 4]\n"
     ]
    }
   ],
   "source": [
    "length = len(greenBox) - 2\n",
    "pinkBox = [[], [], []]\n",
    "\n",
    "for rowIndex in range(length):\n",
    "    print('Yellow Box', rowIndex + 1)\n",
    "    \n",
    "    for columnIndex in range(length):\n",
    "        pinkBox[rowIndex].append(convolution(greenBox, weightEdges, rowIndex, columnIndex, length))\n",
    "        print()\n",
    "        \n",
    "print('Pink Box:')\n",
    "\n",
    "for row in pinkBox:\n",
    "    print(row)"
   ]
  },
  {
   "cell_type": "code",
   "execution_count": null,
   "id": "03ba4a6d",
   "metadata": {},
   "outputs": [],
   "source": []
  }
 ],
 "metadata": {
  "kernelspec": {
   "display_name": "Python 3",
   "language": "python",
   "name": "python3"
  },
  "language_info": {
   "codemirror_mode": {
    "name": "ipython",
    "version": 3
   },
   "file_extension": ".py",
   "mimetype": "text/x-python",
   "name": "python",
   "nbconvert_exporter": "python",
   "pygments_lexer": "ipython3",
   "version": "3.8.8"
  }
 },
 "nbformat": 4,
 "nbformat_minor": 5
}

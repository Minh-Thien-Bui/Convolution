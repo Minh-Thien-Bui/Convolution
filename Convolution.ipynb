{
 "cells": [
  {
   "cell_type": "code",
   "execution_count": 43,
   "id": "e6ebceaf",
   "metadata": {},
   "outputs": [],
   "source": [
    "import random"
   ]
  },
  {
   "cell_type": "markdown",
   "id": "4f485f7d",
   "metadata": {},
   "source": [
    "Green Box <br>\n",
    "1 1 1 0 0 <br>\n",
    "0 1 1 1 0 <br>\n",
    "0 0 1 1 1 <br>\n",
    "0 0 1 1 0 <br>\n",
    "0 1 1 0 0 <br>"
   ]
  },
  {
   "cell_type": "markdown",
   "id": "4beb23f2",
   "metadata": {},
   "source": [
    "Weight Edges\n",
    "<br>\n",
    "1 0 1 <br>\n",
    "0 1 0 <br>\n",
    "1 0 1 <br>"
   ]
  },
  {
   "cell_type": "markdown",
   "id": "62947f46",
   "metadata": {},
   "source": [
    "Pink Box\n",
    "<br>\n",
    "4 3 4 <br>\n",
    "2 4 3 <br>\n",
    "2 3 4 <br>"
   ]
  },
  {
   "cell_type": "code",
   "execution_count": 44,
   "id": "ec0fa985",
   "metadata": {},
   "outputs": [
    {
     "data": {
      "text/plain": [
       "[[1, 1, 1, 0, 0],\n",
       " [0, 1, 1, 1, 0],\n",
       " [0, 0, 1, 1, 1],\n",
       " [0, 0, 1, 1, 0],\n",
       " [0, 1, 1, 0, 0]]"
      ]
     },
     "execution_count": 44,
     "metadata": {},
     "output_type": "execute_result"
    }
   ],
   "source": [
    "greenBox = [\n",
    "    [1, 1, 1, 0, 0],\n",
    "    [0, 1, 1, 1, 0],\n",
    "    [0, 0, 1, 1, 1],\n",
    "    [0, 0, 1, 1, 0],\n",
    "    [0, 1, 1, 0, 0]\n",
    "]\n",
    "\n",
    "greenBox"
   ]
  },
  {
   "cell_type": "code",
   "execution_count": 45,
   "id": "52ce7ecc",
   "metadata": {},
   "outputs": [],
   "source": [
    "def randomBox():\n",
    "    randBox = []\n",
    "    \n",
    "    rowLength = random.randint(5, 10)\n",
    "    colLength = random.randint(5, 10)\n",
    "    \n",
    "    for row in range(rowLength):\n",
    "        randBox.append([])\n",
    "        \n",
    "        for col in range(colLength):\n",
    "            randBox[row].append(random.randint(0, 1))\n",
    "            \n",
    "    return randBox"
   ]
  },
  {
   "cell_type": "code",
   "execution_count": 46,
   "id": "2146948d",
   "metadata": {},
   "outputs": [
    {
     "data": {
      "text/plain": [
       "[[1, 1, 0, 1, 1],\n",
       " [1, 0, 1, 0, 0],\n",
       " [0, 0, 0, 1, 1],\n",
       " [1, 0, 0, 1, 1],\n",
       " [1, 1, 0, 0, 1],\n",
       " [0, 0, 1, 1, 0],\n",
       " [0, 0, 0, 1, 0]]"
      ]
     },
     "execution_count": 46,
     "metadata": {},
     "output_type": "execute_result"
    }
   ],
   "source": [
    "greenBox = randomBox()\n",
    "greenBox"
   ]
  },
  {
   "cell_type": "code",
   "execution_count": 47,
   "id": "affd8146",
   "metadata": {},
   "outputs": [
    {
     "data": {
      "text/plain": [
       "[[1, 0, 1], [0, 1, 0], [1, 0, 1]]"
      ]
     },
     "execution_count": 47,
     "metadata": {},
     "output_type": "execute_result"
    }
   ],
   "source": [
    "weightEdges = [\n",
    "    [1, 0, 1],\n",
    "    [0, 1, 0],\n",
    "    [1, 0, 1]\n",
    "]\n",
    "\n",
    "weightEdges"
   ]
  },
  {
   "cell_type": "code",
   "execution_count": 48,
   "id": "fbc0faf9",
   "metadata": {},
   "outputs": [],
   "source": [
    "def convolution(greenBox, weightEdges, rowIndex, columnIndex):\n",
    "    yellowBox = []\n",
    "    convolvedSum = 0\n",
    "\n",
    "    for row in range(len(weightEdges)):\n",
    "        yellowBox.append(\n",
    "            greenBox[row + rowIndex]\n",
    "            [columnIndex : columnIndex + len(weightEdges[row])]\n",
    "        )\n",
    "        \n",
    "    for row in yellowBox:\n",
    "        print(row)\n",
    "        \n",
    "    for row in range(len(yellowBox)):\n",
    "        for column in range(len(yellowBox[row])):\n",
    "            convolvedSum += yellowBox[row][column] * weightEdges[row][column]\n",
    "                \n",
    "    return convolvedSum"
   ]
  },
  {
   "cell_type": "code",
   "execution_count": 49,
   "id": "3b467f66",
   "metadata": {},
   "outputs": [
    {
     "name": "stdout",
     "output_type": "stream",
     "text": [
      "Yellow Box\n",
      "\n",
      "Row 1\n",
      "Column 1\n",
      "[1, 1, 0]\n",
      "[1, 0, 1]\n",
      "[0, 0, 0]\n",
      "\n",
      "Column 2\n",
      "[1, 0, 1]\n",
      "[0, 1, 0]\n",
      "[0, 0, 1]\n",
      "\n",
      "Column 3\n",
      "[0, 1, 1]\n",
      "[1, 0, 0]\n",
      "[0, 1, 1]\n",
      "\n",
      "Row 2\n",
      "Column 1\n",
      "[1, 0, 1]\n",
      "[0, 0, 0]\n",
      "[1, 0, 0]\n",
      "\n",
      "Column 2\n",
      "[0, 1, 0]\n",
      "[0, 0, 1]\n",
      "[0, 0, 1]\n",
      "\n",
      "Column 3\n",
      "[1, 0, 0]\n",
      "[0, 1, 1]\n",
      "[0, 1, 1]\n",
      "\n",
      "Row 3\n",
      "Column 1\n",
      "[0, 0, 0]\n",
      "[1, 0, 0]\n",
      "[1, 1, 0]\n",
      "\n",
      "Column 2\n",
      "[0, 0, 1]\n",
      "[0, 0, 1]\n",
      "[1, 0, 0]\n",
      "\n",
      "Column 3\n",
      "[0, 1, 1]\n",
      "[0, 1, 1]\n",
      "[0, 0, 1]\n",
      "\n",
      "Row 4\n",
      "Column 1\n",
      "[1, 0, 0]\n",
      "[1, 1, 0]\n",
      "[0, 0, 1]\n",
      "\n",
      "Column 2\n",
      "[0, 0, 1]\n",
      "[1, 0, 0]\n",
      "[0, 1, 1]\n",
      "\n",
      "Column 3\n",
      "[0, 1, 1]\n",
      "[0, 0, 1]\n",
      "[1, 1, 0]\n",
      "\n",
      "Row 5\n",
      "Column 1\n",
      "[1, 1, 0]\n",
      "[0, 0, 1]\n",
      "[0, 0, 0]\n",
      "\n",
      "Column 2\n",
      "[1, 0, 0]\n",
      "[0, 1, 1]\n",
      "[0, 0, 1]\n",
      "\n",
      "Column 3\n",
      "[0, 0, 1]\n",
      "[1, 1, 0]\n",
      "[0, 1, 0]\n",
      "\n",
      "Pink Box:\n",
      "[1, 4, 2]\n",
      "[3, 1, 3]\n",
      "[1, 2, 3]\n",
      "[3, 2, 2]\n",
      "[1, 3, 2]\n"
     ]
    }
   ],
   "source": [
    "pinkBox = []\n",
    "print('Yellow Box\\n')\n",
    "\n",
    "for rowIndex in range(len(greenBox) - 2):\n",
    "    pinkBox.append([])\n",
    "    print('Row', rowIndex + 1)\n",
    "    \n",
    "    for columnIndex in range(len(greenBox[rowIndex]) - 2):\n",
    "        print('Column', columnIndex + 1)\n",
    "        pinkBox[rowIndex].append(\n",
    "            convolution(greenBox, weightEdges, rowIndex, columnIndex)\n",
    "        )\n",
    "        print()\n",
    "        \n",
    "print('Pink Box:')\n",
    "\n",
    "for row in pinkBox:\n",
    "    print(row)"
   ]
  },
  {
   "cell_type": "code",
   "execution_count": null,
   "id": "03ba4a6d",
   "metadata": {},
   "outputs": [],
   "source": []
  }
 ],
 "metadata": {
  "kernelspec": {
   "display_name": "Python 3",
   "language": "python",
   "name": "python3"
  },
  "language_info": {
   "codemirror_mode": {
    "name": "ipython",
    "version": 3
   },
   "file_extension": ".py",
   "mimetype": "text/x-python",
   "name": "python",
   "nbconvert_exporter": "python",
   "pygments_lexer": "ipython3",
   "version": "3.8.8"
  }
 },
 "nbformat": 4,
 "nbformat_minor": 5
}
